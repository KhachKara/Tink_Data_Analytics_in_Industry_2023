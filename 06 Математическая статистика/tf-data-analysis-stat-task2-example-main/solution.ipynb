{
 "cells": [
  {
   "cell_type": "code",
   "execution_count": 40,
   "id": "36bb7116",
   "metadata": {},
   "outputs": [],
   "source": [
    "import pandas as pd\n",
    "import numpy as np\n",
    "from scipy.stats import chi2\n",
    "from scipy.stats import norm\n",
    "\n",
    "chat_id = 42791670 # Ваш chat ID, не меняйте название переменной\n",
    "\n",
    "def solution(p: float, x: np.array) -> tuple:\n",
    "    alpha = 1 - p\n",
    "    n = len(x)\n",
    "    df = n - 1\n",
    "    var = np.var(x, ddof=1)\n",
    "    lower_crit = chi2.ppf(alpha / 2, df)\n",
    "    upper_crit = chi2.ppf(1 - alpha / 2, df)\n",
    "    var1 = df * var / upper_crit\n",
    "    var2 = df * var / lower_crit\n",
    "    b1 = (var1 * 12)**0.5 + 0.095\n",
    "    b2 = (var2 * 12)**0.5 + 0.095\n",
    "    return b1, b2"
   ]
  },
  {
   "cell_type": "code",
   "execution_count": 31,
   "id": "69ca4b6e",
   "metadata": {},
   "outputs": [],
   "source": [
    "def solution(p: float, x: np.array) -> tuple:\n",
    "    a = 0.095  # нижняя граница диапазона генерации уровня значимости\n",
    "    b = np.max(x)  # оценка параметра b методом максимального правдоподобия\n",
    "    alpha = 1 - p  # уровень значимости\n",
    "    \n",
    "    left = a  # левая граница доверительного интервала\n",
    "    right = 2 * b - a  # правая граница доверительного интервала\n",
    "    \n",
    "    return left, right"
   ]
  },
  {
   "cell_type": "code",
   "execution_count": 32,
   "id": "18f035ad",
   "metadata": {},
   "outputs": [],
   "source": [
    "import numpy as np\n",
    "b = 10\n",
    "n = 10000\n",
    "x = np.random.uniform(0.095, b, n)"
   ]
  },
  {
   "cell_type": "code",
   "execution_count": null,
   "id": "b570f26c",
   "metadata": {},
   "outputs": [],
   "source": []
  },
  {
   "cell_type": "code",
   "execution_count": 33,
   "id": "20fb1ded",
   "metadata": {},
   "outputs": [],
   "source": [
    "def solution(p: float, x: np.array) -> tuple:\n",
    "    b_ml = np.max(x)\n",
    "    s = np.std(x, ddof=1)\n",
    "    t = stats.t.ppf((1+p)/2, n-1)\n",
    "    delta = t * s / np.sqrt(n)\n",
    "    b_interval = (max(b_ml, b_ml - delta), b_ml + delta)\n",
    "    return  b_interval"
   ]
  },
  {
   "cell_type": "code",
   "execution_count": 34,
   "id": "c330387a",
   "metadata": {},
   "outputs": [],
   "source": [
    "def solution(alpha, p_values):\n",
    "    k = np.sqrt(1/alpha - 1)\n",
    "    mean_p = np.mean(p_values)\n",
    "    std_p = np.std(p_values, ddof=1)\n",
    "    lower_bound = mean_p - k*std_p/np.sqrt(n)\n",
    "    upper_bound = (2*mean_p - lower_bound)\n",
    "    return (0.095, upper_bound)\n"
   ]
  },
  {
   "cell_type": "code",
   "execution_count": 37,
   "id": "46bfac43",
   "metadata": {},
   "outputs": [],
   "source": [
    "def solution(p: float, x: np.array) -> tuple:\n",
    "    alpha = 1 - p\n",
    "    df = n - 1\n",
    "    var = np.var(x, ddof=1)\n",
    "    lower_crit = chi2.ppf(alpha / 2, df)\n",
    "    upper_crit = chi2.ppf(1 - alpha / 2, df)\n",
    "    var1 = df * var / upper_crit\n",
    "    var2 = df * var / lower_crit\n",
    "    b1 = (var1 * 12)**0.5 + 0.095\n",
    "    b2 = (var2 * 12)**0.5 + 0.095\n",
    "    return b1, b2"
   ]
  },
  {
   "cell_type": "code",
   "execution_count": 38,
   "id": "2317c811",
   "metadata": {},
   "outputs": [
    {
     "data": {
      "text/plain": [
       "(9.907280245571869, 10.18308991550013)"
      ]
     },
     "execution_count": 38,
     "metadata": {},
     "output_type": "execute_result"
    }
   ],
   "source": [
    "solution(0.95, x)"
   ]
  }
 ],
 "metadata": {
  "kernelspec": {
   "display_name": "Python 3 (ipykernel)",
   "language": "python",
   "name": "python3"
  },
  "language_info": {
   "codemirror_mode": {
    "name": "ipython",
    "version": 3
   },
   "file_extension": ".py",
   "mimetype": "text/x-python",
   "name": "python",
   "nbconvert_exporter": "python",
   "pygments_lexer": "ipython3",
   "version": "3.10.7"
  },
  "toc": {
   "base_numbering": 1,
   "nav_menu": {},
   "number_sections": true,
   "sideBar": true,
   "skip_h1_title": false,
   "title_cell": "Table of Contents",
   "title_sidebar": "Contents",
   "toc_cell": false,
   "toc_position": {},
   "toc_section_display": true,
   "toc_window_display": false
  },
  "varInspector": {
   "cols": {
    "lenName": 16,
    "lenType": 16,
    "lenVar": 40
   },
   "kernels_config": {
    "python": {
     "delete_cmd_postfix": "",
     "delete_cmd_prefix": "del ",
     "library": "var_list.py",
     "varRefreshCmd": "print(var_dic_list())"
    },
    "r": {
     "delete_cmd_postfix": ") ",
     "delete_cmd_prefix": "rm(",
     "library": "var_list.r",
     "varRefreshCmd": "cat(var_dic_list()) "
    }
   },
   "types_to_exclude": [
    "module",
    "function",
    "builtin_function_or_method",
    "instance",
    "_Feature"
   ],
   "window_display": false
  }
 },
 "nbformat": 4,
 "nbformat_minor": 5
}
