{
 "cells": [
  {
   "cell_type": "markdown",
   "id": "f4906c82",
   "metadata": {},
   "source": [
    "- Для выполнения задания потребуется самому сгенерировать данные с помощью модуля random (все пункты выполняются с помощью нее).\n",
    "\n",
    "- Что необходимо, для создания будущей таблицы:"
   ]
  },
  {
   "cell_type": "markdown",
   "id": "a8138162",
   "metadata": {},
   "source": [
    "0) Для генерации данных в random необходимо установить seed = \"АДВИ_2023\", длина каждого списка N = 1000;"
   ]
  },
  {
   "cell_type": "code",
   "execution_count": 1,
   "id": "b61efcf2",
   "metadata": {},
   "outputs": [],
   "source": [
    "import pandas as pd\n",
    "import random\n",
    "import numpy as np\n",
    "\n",
    "random.seed(\"АДВИ_2023\")\n",
    "\n",
    "N = 1000"
   ]
  },
  {
   "cell_type": "markdown",
   "id": "e71ef3ba",
   "metadata": {},
   "source": [
    "1) index колонка: создать список из N последовательных целых элементов от 1 до 1000 включительно, далее, с помощью специальной функции random перемешать его;"
   ]
  },
  {
   "cell_type": "code",
   "execution_count": 2,
   "id": "c4404a31",
   "metadata": {},
   "outputs": [],
   "source": [
    "# Создаем список N последовательных целых элементов от 1 до 1000\n",
    "index = list(range(1, N+1))\n",
    "\n",
    "random.shuffle(index)"
   ]
  },
  {
   "cell_type": "markdown",
   "id": "1fb5943a",
   "metadata": {},
   "source": [
    "2) groups колонка: создать список из N элементов, состоящий из значений из списка [\"группа_1\", \"группа_2\", \"группа_3\", \"группа_4\", \"группа_5\"], необходимо использовать функцию из random которая возвращает список элементов длины k, выбранных из последовательности population с перестановкой элементов;"
   ]
  },
  {
   "cell_type": "code",
   "execution_count": 57,
   "id": "a11ca514",
   "metadata": {},
   "outputs": [],
   "source": [
    "random.seed(\"АДВИ_2023\")\n",
    "groups_list = [\"группа_1\", \"группа_2\", \"группа_3\", \"группа_4\", \"группа_5\"]\n",
    "k = 1\n",
    "groups = [random.sample(groups_list, k)[0] for i in range(N)]\n",
    "# groups"
   ]
  },
  {
   "cell_type": "markdown",
   "id": "0262a839",
   "metadata": {},
   "source": [
    "3) uniform колонка: создать список из N элементов, состоящий из целых значение из равномерного распределения [50, 100] ;"
   ]
  },
  {
   "cell_type": "code",
   "execution_count": 65,
   "id": "a2fa1c0f",
   "metadata": {},
   "outputs": [
    {
     "ename": "TypeError",
     "evalue": "'int' object is not iterable",
     "output_type": "error",
     "traceback": [
      "\u001b[1;31m---------------------------------------------------------------------------\u001b[0m",
      "\u001b[1;31mTypeError\u001b[0m                                 Traceback (most recent call last)",
      "Input \u001b[1;32mIn [65]\u001b[0m, in \u001b[0;36m<cell line: 1>\u001b[1;34m()\u001b[0m\n\u001b[1;32m----> 1\u001b[0m normal_distribution \u001b[38;5;241m=\u001b[39m [random\u001b[38;5;241m.\u001b[39mchoice([\u001b[38;5;241m50\u001b[39m, \u001b[38;5;241m100\u001b[39m]) \u001b[38;5;28;01mfor\u001b[39;00m i \u001b[38;5;129;01min\u001b[39;00m \u001b[38;5;241m1000\u001b[39m]\n",
      "\u001b[1;31mTypeError\u001b[0m: 'int' object is not iterable"
     ]
    }
   ],
   "source": [
    "normal_distribution = [random.choice([50, 100]) for i in 1000]"
   ]
  },
  {
   "cell_type": "markdown",
   "id": "afc267f0",
   "metadata": {},
   "source": [
    "4) gauss_1, gauss_2, gauss_3 колонки: Создать 3 списка из N элементов каждый, заполненные значениями из нормальных распределений с параметрами:\n",
    "- μ = 0, σ**2 = 1 -> третья колонка gauss_1;\n",
    "- μ = 0, σ**2 = 144 -> четвертая колонка gauss_2;\n",
    "- μ = 50, σ**2 = 81 -> пятая колонка gauss_3;"
   ]
  },
  {
   "cell_type": "markdown",
   "id": "71a74934",
   "metadata": {},
   "source": [
    "5) Создать pandas DataFrame, где (1) будет индексом, (2)-(4) колонки, названия колонок [\"groups\", \"uniform\", \"gauss_1\", \"gauss_2\", \"gauss_3\"] соответственно, не забывая проверить, что типы колонок должны соответствовать заявленным типам данных;"
   ]
  },
  {
   "cell_type": "markdown",
   "id": "cc60a4ea",
   "metadata": {},
   "source": [
    "6) Для колонок gauss_1 и gauss_2 заменить значения на None:\n",
    "\n",
    "Для gauss_1, если индекс у значение делится на 121 без остатка;\n",
    "Для gauss_2, если дробная часть больше 0.95;\n"
   ]
  },
  {
   "cell_type": "markdown",
   "id": "fc07645b",
   "metadata": {},
   "source": [
    "7) Теперь, для пропущенных значений gauss_1 и gauss_2:\n",
    "\n",
    "Для gauss_2 None заменить на среднее по колонке;\n",
    "Удалить строчки из таблицы, где gauss_1 == None."
   ]
  },
  {
   "cell_type": "code",
   "execution_count": 215,
   "id": "6f0f777a",
   "metadata": {},
   "outputs": [
    {
     "data": {
      "text/html": [
       "<h1>Первая строка из таблицы для сверки:</h1>\n",
       "<p>|index|groups|uniform|gauss_1|gauss_2| gauss_3|</p>\n",
       "<p>|476|группа_1|95|3.010291|2.156346|57.455853|</p>\n"
      ],
      "text/plain": [
       "<IPython.core.display.HTML object>"
      ]
     },
     "metadata": {},
     "output_type": "display_data"
    }
   ],
   "source": [
    "%%HTML\n",
    "<h1>Первая строка из таблицы для сверки:</h1>\n",
    "<p>|index|groups|uniform|gauss_1|gauss_2| gauss_3|</p>\n",
    "<p>|476|группа_1|95|3.010291|2.156346|57.455853|</p>\n"
   ]
  }
 ],
 "metadata": {
  "kernelspec": {
   "display_name": "Python 3 (ipykernel)",
   "language": "python",
   "name": "python3"
  },
  "language_info": {
   "codemirror_mode": {
    "name": "ipython",
    "version": 3
   },
   "file_extension": ".py",
   "mimetype": "text/x-python",
   "name": "python",
   "nbconvert_exporter": "python",
   "pygments_lexer": "ipython3",
   "version": "3.10.7"
  },
  "toc": {
   "base_numbering": 1,
   "nav_menu": {},
   "number_sections": true,
   "sideBar": true,
   "skip_h1_title": false,
   "title_cell": "Table of Contents",
   "title_sidebar": "Contents",
   "toc_cell": false,
   "toc_position": {},
   "toc_section_display": true,
   "toc_window_display": false
  },
  "varInspector": {
   "cols": {
    "lenName": 16,
    "lenType": 16,
    "lenVar": 40
   },
   "kernels_config": {
    "python": {
     "delete_cmd_postfix": "",
     "delete_cmd_prefix": "del ",
     "library": "var_list.py",
     "varRefreshCmd": "print(var_dic_list())"
    },
    "r": {
     "delete_cmd_postfix": ") ",
     "delete_cmd_prefix": "rm(",
     "library": "var_list.r",
     "varRefreshCmd": "cat(var_dic_list()) "
    }
   },
   "types_to_exclude": [
    "module",
    "function",
    "builtin_function_or_method",
    "instance",
    "_Feature"
   ],
   "window_display": false
  }
 },
 "nbformat": 4,
 "nbformat_minor": 5
}
