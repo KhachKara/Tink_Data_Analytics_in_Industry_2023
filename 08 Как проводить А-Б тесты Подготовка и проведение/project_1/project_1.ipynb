{
 "cells": [
  {
   "cell_type": "code",
   "execution_count": 33,
   "id": "f55ba67c",
   "metadata": {},
   "outputs": [],
   "source": [
    "import pandas as pd\n",
    "import math\n",
    "import numpy as np\n",
    "import scipy.stats as stats\n",
    "from scipy.stats import t"
   ]
  },
  {
   "cell_type": "markdown",
   "id": "96ac1922",
   "metadata": {
    "id": "96ac1922"
   },
   "source": [
    "# Задание 1 для проекта по A/B - тестам."
   ]
  },
  {
   "cell_type": "markdown",
   "id": "e01e5ec9",
   "metadata": {
    "id": "e01e5ec9"
   },
   "source": [
    "### `chat_id ` из Телеграма:"
   ]
  },
  {
   "cell_type": "code",
   "execution_count": 2,
   "id": "Of7L1OK6jEKT",
   "metadata": {
    "id": "Of7L1OK6jEKT"
   },
   "outputs": [],
   "source": [
    "chat_id = 42791670"
   ]
  },
  {
   "cell_type": "markdown",
   "id": "1fb036f5",
   "metadata": {
    "id": "1fb036f5"
   },
   "source": [
    "------------------"
   ]
  },
  {
   "cell_type": "markdown",
   "id": "f9d3863a",
   "metadata": {},
   "source": [
    "<b>Контекст</b> <br>\n",
    "Мы считаем, что наш продукт достаточно дорогой для клиента.<br>\n",
    "<u><b>У нас есть гипотеза, что уменьшение цены продукта позволит повысить частоту продаж и суммарно увеличит доходность продукта.</b></u>\n",
    "        \n",
    "<b>Тест</b> <br>\n",
    "Мы проводим тест, в рамках которого контролем является продажа продукта со старой ценой, а тестом — продажа продукта с новой ценой.\n",
    "Целью этого теста является проверка гипотезы роста доходности нашего продукта из-за уменьшения тарифа.\n",
    "\n",
    "<b>Статистические вводные</b> <br>\n",
    "Уровень значимости 5%.\n",
    "Мы хотели бы различать 5%-ное изменение целевой метрики с вероятностью 80%."
   ]
  },
  {
   "cell_type": "code",
   "execution_count": 3,
   "id": "ea0bbfc2",
   "metadata": {},
   "outputs": [],
   "source": [
    "hist_data = pd.read_csv('hist_telesales.csv', index_col='ID')"
   ]
  },
  {
   "cell_type": "code",
   "execution_count": 4,
   "id": "7421ee87",
   "metadata": {},
   "outputs": [
    {
     "data": {
      "text/html": [
       "<div>\n",
       "<style scoped>\n",
       "    .dataframe tbody tr th:only-of-type {\n",
       "        vertical-align: middle;\n",
       "    }\n",
       "\n",
       "    .dataframe tbody tr th {\n",
       "        vertical-align: top;\n",
       "    }\n",
       "\n",
       "    .dataframe thead th {\n",
       "        text-align: right;\n",
       "    }\n",
       "</style>\n",
       "<table border=\"1\" class=\"dataframe\">\n",
       "  <thead>\n",
       "    <tr style=\"text-align: right;\">\n",
       "      <th></th>\n",
       "      <th>Флаг дозвона</th>\n",
       "      <th>Флаг продажи</th>\n",
       "      <th>Расходы</th>\n",
       "      <th>PV</th>\n",
       "      <th>NPV</th>\n",
       "    </tr>\n",
       "    <tr>\n",
       "      <th>ID</th>\n",
       "      <th></th>\n",
       "      <th></th>\n",
       "      <th></th>\n",
       "      <th></th>\n",
       "      <th></th>\n",
       "    </tr>\n",
       "  </thead>\n",
       "  <tbody>\n",
       "    <tr>\n",
       "      <th>0</th>\n",
       "      <td>1</td>\n",
       "      <td>0</td>\n",
       "      <td>90</td>\n",
       "      <td>0</td>\n",
       "      <td>-90</td>\n",
       "    </tr>\n",
       "    <tr>\n",
       "      <th>1</th>\n",
       "      <td>0</td>\n",
       "      <td>0</td>\n",
       "      <td>5</td>\n",
       "      <td>0</td>\n",
       "      <td>-5</td>\n",
       "    </tr>\n",
       "    <tr>\n",
       "      <th>2</th>\n",
       "      <td>0</td>\n",
       "      <td>0</td>\n",
       "      <td>68</td>\n",
       "      <td>0</td>\n",
       "      <td>-68</td>\n",
       "    </tr>\n",
       "    <tr>\n",
       "      <th>3</th>\n",
       "      <td>1</td>\n",
       "      <td>0</td>\n",
       "      <td>22</td>\n",
       "      <td>0</td>\n",
       "      <td>-22</td>\n",
       "    </tr>\n",
       "    <tr>\n",
       "      <th>4</th>\n",
       "      <td>1</td>\n",
       "      <td>0</td>\n",
       "      <td>22</td>\n",
       "      <td>0</td>\n",
       "      <td>-22</td>\n",
       "    </tr>\n",
       "    <tr>\n",
       "      <th>...</th>\n",
       "      <td>...</td>\n",
       "      <td>...</td>\n",
       "      <td>...</td>\n",
       "      <td>...</td>\n",
       "      <td>...</td>\n",
       "    </tr>\n",
       "    <tr>\n",
       "      <th>72156</th>\n",
       "      <td>1</td>\n",
       "      <td>1</td>\n",
       "      <td>577</td>\n",
       "      <td>1346</td>\n",
       "      <td>769</td>\n",
       "    </tr>\n",
       "    <tr>\n",
       "      <th>72157</th>\n",
       "      <td>0</td>\n",
       "      <td>0</td>\n",
       "      <td>8</td>\n",
       "      <td>0</td>\n",
       "      <td>-8</td>\n",
       "    </tr>\n",
       "    <tr>\n",
       "      <th>72158</th>\n",
       "      <td>0</td>\n",
       "      <td>0</td>\n",
       "      <td>23</td>\n",
       "      <td>0</td>\n",
       "      <td>-23</td>\n",
       "    </tr>\n",
       "    <tr>\n",
       "      <th>72159</th>\n",
       "      <td>0</td>\n",
       "      <td>0</td>\n",
       "      <td>4</td>\n",
       "      <td>0</td>\n",
       "      <td>-4</td>\n",
       "    </tr>\n",
       "    <tr>\n",
       "      <th>72160</th>\n",
       "      <td>1</td>\n",
       "      <td>1</td>\n",
       "      <td>132</td>\n",
       "      <td>1385</td>\n",
       "      <td>1253</td>\n",
       "    </tr>\n",
       "  </tbody>\n",
       "</table>\n",
       "<p>72161 rows × 5 columns</p>\n",
       "</div>"
      ],
      "text/plain": [
       "       Флаг дозвона  Флаг продажи  Расходы    PV   NPV\n",
       "ID                                                    \n",
       "0                 1             0       90     0   -90\n",
       "1                 0             0        5     0    -5\n",
       "2                 0             0       68     0   -68\n",
       "3                 1             0       22     0   -22\n",
       "4                 1             0       22     0   -22\n",
       "...             ...           ...      ...   ...   ...\n",
       "72156             1             1      577  1346   769\n",
       "72157             0             0        8     0    -8\n",
       "72158             0             0       23     0   -23\n",
       "72159             0             0        4     0    -4\n",
       "72160             1             1      132  1385  1253\n",
       "\n",
       "[72161 rows x 5 columns]"
      ]
     },
     "execution_count": 4,
     "metadata": {},
     "output_type": "execute_result"
    }
   ],
   "source": [
    "hist_data"
   ]
  },
  {
   "cell_type": "code",
   "execution_count": 5,
   "id": "69d7af5a",
   "metadata": {},
   "outputs": [
    {
     "name": "stdout",
     "output_type": "stream",
     "text": [
      "Конверсия звонков в продажи: 50.37%\n"
     ]
    }
   ],
   "source": [
    "# Считаем количество звонков и продаж\n",
    "calls = hist_data['Флаг дозвона'].sum()\n",
    "sales = hist_data['Флаг продажи'].sum()\n",
    "\n",
    "# Рассчитываем конверсию звонков в продажи\n",
    "conversion_rate = sales / calls\n",
    "\n",
    "# Выводим результат\n",
    "print('Конверсия звонков в продажи: {:.2%}'.format(conversion_rate))"
   ]
  },
  {
   "cell_type": "code",
   "execution_count": 7,
   "id": "3a881c07",
   "metadata": {},
   "outputs": [],
   "source": [
    "# мат ожидание\n",
    "m1 = hist_data.NPV.mean() # среднне исторических данных\n",
    "std1 = np.std(hist_data.NPV, ddof=1)"
   ]
  },
  {
   "cell_type": "code",
   "execution_count": 34,
   "id": "bdef1275",
   "metadata": {},
   "outputs": [
    {
     "name": "stdout",
     "output_type": "stream",
     "text": [
      "Размер выборки:  6281\n"
     ]
    }
   ],
   "source": [
    "from statsmodels.stats.power import TTestIndPower\n",
    "\n",
    "effect_size = 0.05 # ожидаемый эффект 5%\n",
    "alpha = 0.05 # уровень значимости\n",
    "power = 0.8 # мощность теста\n",
    "ratio = 1.0 # отношение размера выборок\n",
    "\n",
    "power_analysis = TTestIndPower()\n",
    "sample_size = power_analysis.solve_power(effect_size=effect_size, alpha=alpha, power=power, ratio=ratio)\n",
    "sample_size = math.ceil(sample_size)\n",
    "print(\"Размер выборки: \", sample_size)"
   ]
  },
  {
   "cell_type": "code",
   "execution_count": null,
   "id": "0a843e65",
   "metadata": {},
   "outputs": [],
   "source": [
    "# Код выборки: 34346"
   ]
  },
  {
   "cell_type": "code",
   "execution_count": 19,
   "id": "eb067563",
   "metadata": {},
   "outputs": [],
   "source": [
    "df_cont = pd.read_csv('Контроль.csv') "
   ]
  },
  {
   "cell_type": "code",
   "execution_count": 21,
   "id": "4597934d",
   "metadata": {},
   "outputs": [],
   "source": [
    "df_test = pd.read_csv('Тест.csv')"
   ]
  },
  {
   "cell_type": "code",
   "execution_count": 26,
   "id": "69b97bbf",
   "metadata": {},
   "outputs": [],
   "source": [
    "cont_mean = df_cont.NPV.mean() # мат ожидание по контрольной группе\n",
    "test_mean = df_test.NPV.mean() # мат ожидание по тестовой группе"
   ]
  },
  {
   "cell_type": "code",
   "execution_count": 42,
   "id": "04b3ab12",
   "metadata": {},
   "outputs": [],
   "source": [
    "n1 = sample_size # размер контрольной выборкит \n",
    "n2 = sample_size # размер тестовой выборкит"
   ]
  },
  {
   "cell_type": "code",
   "execution_count": 43,
   "id": "ea26dbca",
   "metadata": {},
   "outputs": [],
   "source": [
    "s1 = df_cont.NPV.std() # стандаоьное оьклонние коньрольной группы\n",
    "s2 = df_test.NPV.std() # стандаоьное оьклонние тестовой группы"
   ]
  },
  {
   "cell_type": "code",
   "execution_count": 44,
   "id": "3a3f1bf5",
   "metadata": {},
   "outputs": [],
   "source": [
    "sp = (((n1 - 1) * s1**2 + (n2 - 1) * s2**2) / (n1 + n2 - 2))**0.5  # объеденнное стандартное отклонение"
   ]
  },
  {
   "cell_type": "code",
   "execution_count": null,
   "id": "de94c248",
   "metadata": {},
   "outputs": [],
   "source": []
  },
  {
   "cell_type": "code",
   "execution_count": 56,
   "id": "22db9f01",
   "metadata": {},
   "outputs": [],
   "source": [
    "t = (test_mean - cont_mean) / (sp * (1 / n1 + 1 / n2)**0.5)  # Т статистика"
   ]
  },
  {
   "cell_type": "code",
   "execution_count": 57,
   "id": "518b4fb7",
   "metadata": {},
   "outputs": [],
   "source": [
    "t_test = stats.t.sf(t, n1 + n2 - 2)"
   ]
  },
  {
   "cell_type": "code",
   "execution_count": 58,
   "id": "e83f34ff",
   "metadata": {},
   "outputs": [
    {
     "data": {
      "text/plain": [
       "0.26598718963941326"
      ]
     },
     "execution_count": 58,
     "metadata": {},
     "output_type": "execute_result"
    }
   ],
   "source": [
    "t_test"
   ]
  },
  {
   "cell_type": "markdown",
   "id": "806786a7",
   "metadata": {},
   "source": [
    "Вывод:\n",
    "- p-value не меньше чем уровень значимости alpha, значит принимаем H0 гипотезу.\n",
    "- это значит что скидка в ночное время не позволила увеличить прибиль"
   ]
  }
 ],
 "metadata": {
  "colab": {
   "provenance": []
  },
  "kernelspec": {
   "display_name": "Python 3 (ipykernel)",
   "language": "python",
   "name": "python3"
  },
  "language_info": {
   "codemirror_mode": {
    "name": "ipython",
    "version": 3
   },
   "file_extension": ".py",
   "mimetype": "text/x-python",
   "name": "python",
   "nbconvert_exporter": "python",
   "pygments_lexer": "ipython3",
   "version": "3.10.7"
  },
  "toc": {
   "base_numbering": 1,
   "nav_menu": {},
   "number_sections": true,
   "sideBar": true,
   "skip_h1_title": false,
   "title_cell": "Table of Contents",
   "title_sidebar": "Contents",
   "toc_cell": false,
   "toc_position": {},
   "toc_section_display": true,
   "toc_window_display": false
  },
  "varInspector": {
   "cols": {
    "lenName": 16,
    "lenType": 16,
    "lenVar": 40
   },
   "kernels_config": {
    "python": {
     "delete_cmd_postfix": "",
     "delete_cmd_prefix": "del ",
     "library": "var_list.py",
     "varRefreshCmd": "print(var_dic_list())"
    },
    "r": {
     "delete_cmd_postfix": ") ",
     "delete_cmd_prefix": "rm(",
     "library": "var_list.r",
     "varRefreshCmd": "cat(var_dic_list()) "
    }
   },
   "types_to_exclude": [
    "module",
    "function",
    "builtin_function_or_method",
    "instance",
    "_Feature"
   ],
   "window_display": false
  }
 },
 "nbformat": 4,
 "nbformat_minor": 5
}
