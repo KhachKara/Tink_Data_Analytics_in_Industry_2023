{
 "cells": [
  {
   "cell_type": "code",
   "execution_count": 1,
   "id": "b22b940b",
   "metadata": {},
   "outputs": [],
   "source": [
    "# import pandas as pd\n",
    "# import numpy as np\n",
    "\n",
    "\n",
    "# chat_id = 42791670 # Ваш chat ID, не меняйте название переменной\n",
    "\n",
    "# def solution(...) -> bool: # Одна или две выборке на входе, заполняется исходя из условия\n",
    "#     # Измените код этой функции\n",
    "#     # Это будет вашим решением\n",
    "#     # Не меняйте название функции и её аргументы\n",
    "#     return ... # Ваш ответ, True или False"
   ]
  },
  {
   "cell_type": "code",
   "execution_count": 9,
   "id": "75b77bcc",
   "metadata": {},
   "outputs": [],
   "source": [
    "import pandas as pd\n",
    "import numpy as np\n",
    "from scipy.stats import ks_2samp\n",
    "\n",
    "# Загрузка данных\n",
    "hist_data = pd.read_csv('hyp3_historical_data.csv')\n",
    "# test_data1 = np.loadtxt('test_data1.txt')\n",
    "# test_data2 = np.loadtxt('test_data2.txt')\n",
    "# test_data3 = np.loadtxt('test_data3.txt')\n",
    "\n",
    "# # Вычисление статистики Колмогорова-Смирнова и p-value для каждой выборки\n",
    "# statistic1, pvalue1 = ks_2samp(hist_data, test_data1)\n",
    "# statistic2, pvalue2 = ks_2samp(hist_data, test_data2)\n",
    "# statistic3, pvalue3 = ks_2samp(hist_data, test_data3)\n",
    "\n",
    "# # Определение критического значения статистики Колмогорова-Смирнова для уровня значимости 0.05\n",
    "# alpha = 0.05\n",
    "# n1, n2 = len(hist_data), len(test_data1)\n",
    "# critical_value = np.sqrt(-0.5*np.log(alpha/2))*np.sqrt((n1 + n2)/(n1*n2))\n",
    "\n",
    "# # Проверка гипотезы о совпадении распределений\n",
    "# if statistic1 > critical_value or statistic2 > critical_value or statistic3 > critical_value:\n",
    "#     print('Гипотеза о совпадении распределений отвергается.')\n",
    "# else:\n",
    "#     print('Гипотеза о совпадении распределений не отвергается.')\n"
   ]
  },
  {
   "cell_type": "code",
   "execution_count": 10,
   "id": "3fe185d9",
   "metadata": {},
   "outputs": [
    {
     "data": {
      "text/html": [
       "<div>\n",
       "<style scoped>\n",
       "    .dataframe tbody tr th:only-of-type {\n",
       "        vertical-align: middle;\n",
       "    }\n",
       "\n",
       "    .dataframe tbody tr th {\n",
       "        vertical-align: top;\n",
       "    }\n",
       "\n",
       "    .dataframe thead th {\n",
       "        text-align: right;\n",
       "    }\n",
       "</style>\n",
       "<table border=\"1\" class=\"dataframe\">\n",
       "  <thead>\n",
       "    <tr style=\"text-align: right;\">\n",
       "      <th></th>\n",
       "      <th>Unnamed: 0</th>\n",
       "      <th>x0</th>\n",
       "      <th>x1</th>\n",
       "      <th>x2</th>\n",
       "      <th>x3</th>\n",
       "      <th>x4</th>\n",
       "      <th>x5</th>\n",
       "      <th>x6</th>\n",
       "      <th>x7</th>\n",
       "      <th>x8</th>\n",
       "      <th>...</th>\n",
       "      <th>x4990</th>\n",
       "      <th>x4991</th>\n",
       "      <th>x4992</th>\n",
       "      <th>x4993</th>\n",
       "      <th>x4994</th>\n",
       "      <th>x4995</th>\n",
       "      <th>x4996</th>\n",
       "      <th>x4997</th>\n",
       "      <th>x4998</th>\n",
       "      <th>x4999</th>\n",
       "    </tr>\n",
       "  </thead>\n",
       "  <tbody>\n",
       "    <tr>\n",
       "      <th>0</th>\n",
       "      <td>sample</td>\n",
       "      <td>458.435294</td>\n",
       "      <td>377.439661</td>\n",
       "      <td>349.38688</td>\n",
       "      <td>665.592259</td>\n",
       "      <td>1042.316531</td>\n",
       "      <td>402.096025</td>\n",
       "      <td>505.088412</td>\n",
       "      <td>2103.926941</td>\n",
       "      <td>1410.900077</td>\n",
       "      <td>...</td>\n",
       "      <td>1402.921128</td>\n",
       "      <td>2246.338741</td>\n",
       "      <td>447.776328</td>\n",
       "      <td>303.434363</td>\n",
       "      <td>385.273816</td>\n",
       "      <td>347.626068</td>\n",
       "      <td>326.911384</td>\n",
       "      <td>3254.438372</td>\n",
       "      <td>4330.342527</td>\n",
       "      <td>1155.968781</td>\n",
       "    </tr>\n",
       "  </tbody>\n",
       "</table>\n",
       "<p>1 rows × 5001 columns</p>\n",
       "</div>"
      ],
      "text/plain": [
       "  Unnamed: 0          x0          x1         x2          x3           x4  \\\n",
       "0     sample  458.435294  377.439661  349.38688  665.592259  1042.316531   \n",
       "\n",
       "           x5          x6           x7           x8  ...        x4990  \\\n",
       "0  402.096025  505.088412  2103.926941  1410.900077  ...  1402.921128   \n",
       "\n",
       "         x4991       x4992       x4993       x4994       x4995       x4996  \\\n",
       "0  2246.338741  447.776328  303.434363  385.273816  347.626068  326.911384   \n",
       "\n",
       "         x4997        x4998        x4999  \n",
       "0  3254.438372  4330.342527  1155.968781  \n",
       "\n",
       "[1 rows x 5001 columns]"
      ]
     },
     "execution_count": 10,
     "metadata": {},
     "output_type": "execute_result"
    }
   ],
   "source": [
    "hist_data"
   ]
  },
  {
   "cell_type": "code",
   "execution_count": null,
   "id": "77e5c969",
   "metadata": {},
   "outputs": [],
   "source": []
  },
  {
   "cell_type": "code",
   "execution_count": null,
   "id": "ff552ac3",
   "metadata": {},
   "outputs": [],
   "source": []
  },
  {
   "cell_type": "code",
   "execution_count": null,
   "id": "f8270970",
   "metadata": {},
   "outputs": [],
   "source": []
  },
  {
   "cell_type": "code",
   "execution_count": null,
   "id": "b6bca99f",
   "metadata": {},
   "outputs": [],
   "source": []
  },
  {
   "cell_type": "code",
   "execution_count": null,
   "id": "aa59cfe7",
   "metadata": {},
   "outputs": [],
   "source": []
  },
  {
   "cell_type": "code",
   "execution_count": null,
   "id": "76399b4f",
   "metadata": {},
   "outputs": [],
   "source": []
  },
  {
   "cell_type": "code",
   "execution_count": null,
   "id": "8c06a183",
   "metadata": {},
   "outputs": [],
   "source": []
  },
  {
   "cell_type": "code",
   "execution_count": null,
   "id": "8dc4133d",
   "metadata": {},
   "outputs": [],
   "source": []
  },
  {
   "cell_type": "code",
   "execution_count": null,
   "id": "92c9b567",
   "metadata": {},
   "outputs": [],
   "source": []
  },
  {
   "cell_type": "code",
   "execution_count": null,
   "id": "ce930efb",
   "metadata": {},
   "outputs": [],
   "source": []
  },
  {
   "cell_type": "code",
   "execution_count": null,
   "id": "29574bc6",
   "metadata": {},
   "outputs": [],
   "source": []
  },
  {
   "cell_type": "code",
   "execution_count": null,
   "id": "79a6fb96",
   "metadata": {},
   "outputs": [],
   "source": []
  },
  {
   "cell_type": "code",
   "execution_count": null,
   "id": "cd090bb6",
   "metadata": {},
   "outputs": [],
   "source": []
  },
  {
   "cell_type": "code",
   "execution_count": null,
   "id": "21903e32",
   "metadata": {},
   "outputs": [],
   "source": []
  },
  {
   "cell_type": "code",
   "execution_count": null,
   "id": "9e325a7d",
   "metadata": {},
   "outputs": [],
   "source": []
  },
  {
   "cell_type": "code",
   "execution_count": null,
   "id": "9d82a24d",
   "metadata": {},
   "outputs": [],
   "source": []
  },
  {
   "cell_type": "code",
   "execution_count": null,
   "id": "abe783bf",
   "metadata": {},
   "outputs": [],
   "source": []
  },
  {
   "cell_type": "code",
   "execution_count": null,
   "id": "35ab200f",
   "metadata": {},
   "outputs": [],
   "source": []
  },
  {
   "cell_type": "code",
   "execution_count": null,
   "id": "8382b359",
   "metadata": {},
   "outputs": [],
   "source": []
  },
  {
   "cell_type": "code",
   "execution_count": null,
   "id": "d52a0925",
   "metadata": {},
   "outputs": [],
   "source": []
  },
  {
   "cell_type": "code",
   "execution_count": null,
   "id": "b8853474",
   "metadata": {},
   "outputs": [],
   "source": []
  },
  {
   "cell_type": "code",
   "execution_count": null,
   "id": "4cc3edd4",
   "metadata": {},
   "outputs": [],
   "source": []
  },
  {
   "cell_type": "code",
   "execution_count": null,
   "id": "bd5390d5",
   "metadata": {},
   "outputs": [],
   "source": []
  },
  {
   "cell_type": "code",
   "execution_count": null,
   "id": "ff1c6878",
   "metadata": {},
   "outputs": [],
   "source": []
  },
  {
   "cell_type": "code",
   "execution_count": null,
   "id": "e881d1f8",
   "metadata": {},
   "outputs": [],
   "source": []
  },
  {
   "cell_type": "code",
   "execution_count": null,
   "id": "8b2e2a34",
   "metadata": {},
   "outputs": [],
   "source": []
  },
  {
   "cell_type": "code",
   "execution_count": null,
   "id": "873062c4",
   "metadata": {},
   "outputs": [],
   "source": []
  },
  {
   "cell_type": "code",
   "execution_count": null,
   "id": "241718b5",
   "metadata": {},
   "outputs": [],
   "source": []
  },
  {
   "cell_type": "code",
   "execution_count": null,
   "id": "69c41e82",
   "metadata": {},
   "outputs": [],
   "source": []
  },
  {
   "cell_type": "code",
   "execution_count": null,
   "id": "252f201f",
   "metadata": {},
   "outputs": [],
   "source": []
  },
  {
   "cell_type": "code",
   "execution_count": null,
   "id": "02bbdab9",
   "metadata": {},
   "outputs": [],
   "source": []
  },
  {
   "cell_type": "code",
   "execution_count": null,
   "id": "e6112cd3",
   "metadata": {},
   "outputs": [],
   "source": []
  },
  {
   "cell_type": "code",
   "execution_count": null,
   "id": "c78b8dab",
   "metadata": {},
   "outputs": [],
   "source": []
  },
  {
   "cell_type": "code",
   "execution_count": null,
   "id": "2ea270da",
   "metadata": {},
   "outputs": [],
   "source": []
  },
  {
   "cell_type": "code",
   "execution_count": null,
   "id": "709eaa20",
   "metadata": {},
   "outputs": [],
   "source": []
  },
  {
   "cell_type": "code",
   "execution_count": null,
   "id": "ab74b691",
   "metadata": {},
   "outputs": [],
   "source": []
  },
  {
   "cell_type": "code",
   "execution_count": null,
   "id": "946d087e",
   "metadata": {},
   "outputs": [],
   "source": []
  },
  {
   "cell_type": "code",
   "execution_count": null,
   "id": "c2456223",
   "metadata": {},
   "outputs": [],
   "source": []
  },
  {
   "cell_type": "code",
   "execution_count": null,
   "id": "7c64d232",
   "metadata": {},
   "outputs": [],
   "source": []
  },
  {
   "cell_type": "code",
   "execution_count": null,
   "id": "4d518f40",
   "metadata": {},
   "outputs": [],
   "source": []
  },
  {
   "cell_type": "code",
   "execution_count": null,
   "id": "6270c674",
   "metadata": {},
   "outputs": [],
   "source": []
  },
  {
   "cell_type": "code",
   "execution_count": null,
   "id": "d64f1834",
   "metadata": {},
   "outputs": [],
   "source": []
  },
  {
   "cell_type": "code",
   "execution_count": null,
   "id": "ac5820c6",
   "metadata": {},
   "outputs": [],
   "source": []
  },
  {
   "cell_type": "code",
   "execution_count": null,
   "id": "50f4348a",
   "metadata": {},
   "outputs": [],
   "source": []
  },
  {
   "cell_type": "code",
   "execution_count": null,
   "id": "44a00363",
   "metadata": {},
   "outputs": [],
   "source": []
  },
  {
   "cell_type": "code",
   "execution_count": null,
   "id": "6b898bd9",
   "metadata": {},
   "outputs": [],
   "source": []
  },
  {
   "cell_type": "code",
   "execution_count": null,
   "id": "1ae0f91c",
   "metadata": {},
   "outputs": [],
   "source": []
  },
  {
   "cell_type": "code",
   "execution_count": null,
   "id": "2bb486e0",
   "metadata": {},
   "outputs": [],
   "source": []
  },
  {
   "cell_type": "code",
   "execution_count": null,
   "id": "bb41558c",
   "metadata": {},
   "outputs": [],
   "source": []
  },
  {
   "cell_type": "code",
   "execution_count": null,
   "id": "d5a27d6a",
   "metadata": {},
   "outputs": [],
   "source": []
  },
  {
   "cell_type": "code",
   "execution_count": null,
   "id": "71303b3a",
   "metadata": {},
   "outputs": [],
   "source": []
  },
  {
   "cell_type": "code",
   "execution_count": null,
   "id": "15616933",
   "metadata": {},
   "outputs": [],
   "source": []
  },
  {
   "cell_type": "code",
   "execution_count": null,
   "id": "4b7d144a",
   "metadata": {},
   "outputs": [],
   "source": []
  },
  {
   "cell_type": "code",
   "execution_count": null,
   "id": "a7357a11",
   "metadata": {},
   "outputs": [],
   "source": []
  },
  {
   "cell_type": "code",
   "execution_count": null,
   "id": "7f8cd49f",
   "metadata": {},
   "outputs": [],
   "source": []
  },
  {
   "cell_type": "code",
   "execution_count": null,
   "id": "76f3a25d",
   "metadata": {},
   "outputs": [],
   "source": []
  },
  {
   "cell_type": "code",
   "execution_count": null,
   "id": "f12b6ae9",
   "metadata": {},
   "outputs": [],
   "source": []
  },
  {
   "cell_type": "code",
   "execution_count": null,
   "id": "5a93aa45",
   "metadata": {},
   "outputs": [],
   "source": []
  },
  {
   "cell_type": "code",
   "execution_count": null,
   "id": "116093a8",
   "metadata": {},
   "outputs": [],
   "source": []
  },
  {
   "cell_type": "code",
   "execution_count": null,
   "id": "5071019e",
   "metadata": {},
   "outputs": [],
   "source": []
  },
  {
   "cell_type": "code",
   "execution_count": null,
   "id": "03f9a22d",
   "metadata": {},
   "outputs": [],
   "source": []
  },
  {
   "cell_type": "code",
   "execution_count": null,
   "id": "151ef779",
   "metadata": {},
   "outputs": [],
   "source": []
  },
  {
   "cell_type": "code",
   "execution_count": null,
   "id": "9c5d2fbd",
   "metadata": {},
   "outputs": [],
   "source": []
  },
  {
   "cell_type": "code",
   "execution_count": null,
   "id": "b9979566",
   "metadata": {},
   "outputs": [],
   "source": []
  },
  {
   "cell_type": "code",
   "execution_count": null,
   "id": "aca8b4ef",
   "metadata": {},
   "outputs": [],
   "source": []
  },
  {
   "cell_type": "code",
   "execution_count": null,
   "id": "88eacfb8",
   "metadata": {},
   "outputs": [],
   "source": []
  },
  {
   "cell_type": "code",
   "execution_count": 3,
   "id": "1d5c23c4",
   "metadata": {},
   "outputs": [],
   "source": [
    "# https://github.com/Rustemhak\n",
    "import pandas as pd\n",
    "import numpy as np\n",
    "from scipy.stats import ttest_ind\n",
    "\n",
    "chat_id = 326525586 # Ваш chat ID, не меняйте название переменной\n",
    "\n",
    "def solution(x: np.array, y: np.array) -> bool: # Одна или две выборке на входе, заполняется исходя из условия\n",
    "    # Измените код этой функции\n",
    "    # Это будет вашим решением\n",
    "    # Не меняйте название функции и её аргументы\n",
    "    _, p_value = ttest_ind(x, y, equal_var=False)\n",
    "    alpha = 0.07\n",
    "    return p_value < alpha # Ваш ответ, True или False"
   ]
  },
  {
   "cell_type": "code",
   "execution_count": 14,
   "id": "2406dc2f",
   "metadata": {},
   "outputs": [],
   "source": [
    "df = pd.read_csv('hyp3_historical_data.csv', index_col='Unnamed: 0')"
   ]
  },
  {
   "cell_type": "code",
   "execution_count": null,
   "id": "12745f90",
   "metadata": {},
   "outputs": [],
   "source": []
  },
  {
   "cell_type": "code",
   "execution_count": null,
   "id": "a6d55a4f",
   "metadata": {},
   "outputs": [],
   "source": []
  },
  {
   "cell_type": "code",
   "execution_count": null,
   "id": "58fcc57b",
   "metadata": {},
   "outputs": [],
   "source": [
    "# https://github.com/pirozhkovcsc\n",
    "import pandas as pd\n",
    "import numpy as np\n",
    "\n",
    "from scipy.stats import permutation_test\n",
    "\n",
    "chat_id = 846523402 # Ваш chat ID, не меняйте название переменной\n",
    "\n",
    "def solution(x: np.array, y: np.array) -> bool: # Одна или две выборке на входе, заполняется исходя из условия\n",
    "    # Измените код этой функции\n",
    "    # Это будет вашим решением\n",
    "    # Не меняйте название функции и её аргументы\n",
    "    \n",
    "    effect = permutation_test((x, y), lambda x, y, axis: np.mean(x, axis=axis) - np.mean(y, axis=axis), \n",
    "                 vectorized=True, \n",
    "                 n_resamples=1000,\n",
    "                 alternative='greater').pvalue < 0.07\n",
    "    return effect # Ваш ответ, True или False"
   ]
  },
  {
   "cell_type": "code",
   "execution_count": null,
   "id": "595f4438",
   "metadata": {},
   "outputs": [],
   "source": [
    "# https://github.com/AleksandrK86\n",
    "import pandas as pd\n",
    "import numpy as np\n",
    "import scipy.stats as stats\n",
    "\n",
    "chat_id = 1105105523 # Ваш chat ID, не меняйте название переменной\n",
    "\n",
    "def solution(x, y) -> bool: # Одна или две выборке на входе, заполняется исходя из условия\n",
    "    # Измените код этой функции\n",
    "    # Это будет вашим решением\n",
    "    # Не меняйте название функции и её аргументы\n",
    "    return stats.ttest_ind(x, y)[1] < 0.08 # Ваш ответ, True или False"
   ]
  },
  {
   "cell_type": "code",
   "execution_count": null,
   "id": "da6028bf",
   "metadata": {},
   "outputs": [],
   "source": [
    "# https://github.com/Anastasiamay\n",
    "import pandas as pd\n",
    "import numpy as np\n",
    "from scipy.stats import ttest_1samp\n",
    "\n",
    "chat_id = 1067114867 # Ваш chat ID, не меняйте название переменной\n",
    "\n",
    "def solution(x: np.array) -> bool:\n",
    "    alpha = 0.06\n",
    "    t_stat, p_value = ttest_1samp(x, 300)\n",
    "    return p_value/2 < alpha and t_stat < 0"
   ]
  }
 ],
 "metadata": {
  "kernelspec": {
   "display_name": "Python 3 (ipykernel)",
   "language": "python",
   "name": "python3"
  },
  "language_info": {
   "codemirror_mode": {
    "name": "ipython",
    "version": 3
   },
   "file_extension": ".py",
   "mimetype": "text/x-python",
   "name": "python",
   "nbconvert_exporter": "python",
   "pygments_lexer": "ipython3",
   "version": "3.10.7"
  },
  "toc": {
   "base_numbering": 1,
   "nav_menu": {},
   "number_sections": true,
   "sideBar": true,
   "skip_h1_title": false,
   "title_cell": "Table of Contents",
   "title_sidebar": "Contents",
   "toc_cell": false,
   "toc_position": {},
   "toc_section_display": true,
   "toc_window_display": false
  },
  "varInspector": {
   "cols": {
    "lenName": 16,
    "lenType": 16,
    "lenVar": 40
   },
   "kernels_config": {
    "python": {
     "delete_cmd_postfix": "",
     "delete_cmd_prefix": "del ",
     "library": "var_list.py",
     "varRefreshCmd": "print(var_dic_list())"
    },
    "r": {
     "delete_cmd_postfix": ") ",
     "delete_cmd_prefix": "rm(",
     "library": "var_list.r",
     "varRefreshCmd": "cat(var_dic_list()) "
    }
   },
   "types_to_exclude": [
    "module",
    "function",
    "builtin_function_or_method",
    "instance",
    "_Feature"
   ],
   "window_display": false
  }
 },
 "nbformat": 4,
 "nbformat_minor": 5
}
