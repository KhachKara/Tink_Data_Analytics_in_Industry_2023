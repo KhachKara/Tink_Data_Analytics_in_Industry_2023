{
 "cells": [
  {
   "cell_type": "code",
   "execution_count": 1,
   "id": "86b3faed",
   "metadata": {},
   "outputs": [],
   "source": [
    "# import pandas as pd\n",
    "# import numpy as np\n",
    "# import scipy\n",
    "\n",
    "\n",
    "# chat_id = 42791670 # Ваш chat ID, не меняйте название переменной\n",
    "\n",
    "\n",
    "# def solution(x_success: int, \n",
    "#              x_cnt: int, \n",
    "#              y_success: int, \n",
    "#              y_cnt: int) -> bool:\n",
    "#     # Измените код этой функции\n",
    "#     # Это будет вашим решением\n",
    "#     # Не меняйте название функции и её аргументы\n",
    "#     return ... # Ваш ответ, True или False"
   ]
  },
  {
   "cell_type": "code",
   "execution_count": 60,
   "id": "615d0e8a",
   "metadata": {},
   "outputs": [],
   "source": [
    "import pandas as pd\n",
    "import numpy as np\n",
    "import scipy\n",
    "\n",
    "counts = np.array([0.00822355, 0.858154])\n",
    "nobs = np.array([0.00690257, 0.00900613])\n"
   ]
  },
  {
   "cell_type": "code",
   "execution_count": 61,
   "id": "c52ffbdd",
   "metadata": {},
   "outputs": [
    {
     "name": "stdout",
     "output_type": "stream",
     "text": [
      "Statistics=0.632, p-value=0.001\n"
     ]
    }
   ],
   "source": [
    "# https://python-school.ru/blog/python-for-statissticians/\n",
    "\n",
    "#              y_success: int, \n",
    "stat, p = scipy.stats.shapiro([x_success, x_cnt, y_cnt]) # тест Шапиро-Уилк\n",
    "print('Statistics=%.3f, p-value=%.3f' % (stat, p))"
   ]
  },
  {
   "cell_type": "code",
   "execution_count": 62,
   "id": "042a420c",
   "metadata": {},
   "outputs": [
    {
     "name": "stdout",
     "output_type": "stream",
     "text": [
      "Отклонить гипотезу о нормальности\n"
     ]
    }
   ],
   "source": [
    "alpha = 0.08\n",
    "if p > alpha:\n",
    "    print('Принять гипотезу о нормальности')\n",
    "else:\n",
    "    print('Отклонить гипотезу о нормальности')"
   ]
  },
  {
   "cell_type": "code",
   "execution_count": null,
   "id": "d78fe14e",
   "metadata": {},
   "outputs": [],
   "source": []
  },
  {
   "cell_type": "code",
   "execution_count": null,
   "id": "f5263af4",
   "metadata": {},
   "outputs": [],
   "source": []
  },
  {
   "cell_type": "code",
   "execution_count": null,
   "id": "58c2bf7a",
   "metadata": {},
   "outputs": [],
   "source": []
  },
  {
   "cell_type": "code",
   "execution_count": null,
   "id": "e18b9d51",
   "metadata": {},
   "outputs": [],
   "source": []
  },
  {
   "cell_type": "code",
   "execution_count": null,
   "id": "312693ab",
   "metadata": {},
   "outputs": [],
   "source": []
  },
  {
   "cell_type": "code",
   "execution_count": null,
   "id": "ea925bd8",
   "metadata": {},
   "outputs": [],
   "source": []
  },
  {
   "cell_type": "code",
   "execution_count": null,
   "id": "9c2658fd",
   "metadata": {},
   "outputs": [],
   "source": []
  },
  {
   "cell_type": "code",
   "execution_count": null,
   "id": "36362fef",
   "metadata": {},
   "outputs": [],
   "source": []
  },
  {
   "cell_type": "code",
   "execution_count": null,
   "id": "3687ee98",
   "metadata": {},
   "outputs": [],
   "source": []
  },
  {
   "cell_type": "code",
   "execution_count": null,
   "id": "bcedd2d2",
   "metadata": {},
   "outputs": [],
   "source": []
  },
  {
   "cell_type": "code",
   "execution_count": null,
   "id": "af20818e",
   "metadata": {},
   "outputs": [],
   "source": []
  },
  {
   "cell_type": "code",
   "execution_count": null,
   "id": "7adcb544",
   "metadata": {},
   "outputs": [],
   "source": []
  },
  {
   "cell_type": "code",
   "execution_count": null,
   "id": "a0e4359f",
   "metadata": {},
   "outputs": [],
   "source": []
  },
  {
   "cell_type": "code",
   "execution_count": null,
   "id": "e6618b62",
   "metadata": {},
   "outputs": [],
   "source": []
  },
  {
   "cell_type": "code",
   "execution_count": null,
   "id": "c7148ca6",
   "metadata": {},
   "outputs": [],
   "source": []
  },
  {
   "cell_type": "code",
   "execution_count": null,
   "id": "9baf4ddf",
   "metadata": {},
   "outputs": [],
   "source": []
  },
  {
   "cell_type": "code",
   "execution_count": null,
   "id": "87608411",
   "metadata": {},
   "outputs": [],
   "source": []
  },
  {
   "cell_type": "code",
   "execution_count": null,
   "id": "235523b7",
   "metadata": {},
   "outputs": [],
   "source": []
  },
  {
   "cell_type": "code",
   "execution_count": null,
   "id": "7a411019",
   "metadata": {},
   "outputs": [],
   "source": []
  },
  {
   "cell_type": "code",
   "execution_count": null,
   "id": "0331a053",
   "metadata": {},
   "outputs": [],
   "source": []
  },
  {
   "cell_type": "code",
   "execution_count": null,
   "id": "a43c7579",
   "metadata": {},
   "outputs": [],
   "source": []
  },
  {
   "cell_type": "code",
   "execution_count": null,
   "id": "f7b2cc06",
   "metadata": {},
   "outputs": [],
   "source": []
  },
  {
   "cell_type": "code",
   "execution_count": null,
   "id": "618be61e",
   "metadata": {},
   "outputs": [],
   "source": []
  },
  {
   "cell_type": "code",
   "execution_count": null,
   "id": "9c539871",
   "metadata": {},
   "outputs": [],
   "source": []
  },
  {
   "cell_type": "code",
   "execution_count": null,
   "id": "6a7cd5da",
   "metadata": {},
   "outputs": [],
   "source": []
  },
  {
   "cell_type": "code",
   "execution_count": null,
   "id": "a5729eec",
   "metadata": {},
   "outputs": [],
   "source": []
  },
  {
   "cell_type": "code",
   "execution_count": null,
   "id": "488fb578",
   "metadata": {},
   "outputs": [],
   "source": []
  },
  {
   "cell_type": "code",
   "execution_count": null,
   "id": "2ee56695",
   "metadata": {},
   "outputs": [],
   "source": []
  },
  {
   "cell_type": "code",
   "execution_count": null,
   "id": "8f8cadde",
   "metadata": {},
   "outputs": [],
   "source": []
  },
  {
   "cell_type": "code",
   "execution_count": null,
   "id": "a545f6b6",
   "metadata": {},
   "outputs": [],
   "source": []
  },
  {
   "cell_type": "code",
   "execution_count": null,
   "id": "58264043",
   "metadata": {},
   "outputs": [],
   "source": []
  },
  {
   "cell_type": "code",
   "execution_count": null,
   "id": "d47d9563",
   "metadata": {},
   "outputs": [],
   "source": []
  },
  {
   "cell_type": "code",
   "execution_count": null,
   "id": "6637a754",
   "metadata": {},
   "outputs": [],
   "source": []
  },
  {
   "cell_type": "code",
   "execution_count": null,
   "id": "caa3b862",
   "metadata": {},
   "outputs": [],
   "source": []
  },
  {
   "cell_type": "code",
   "execution_count": null,
   "id": "e02a3247",
   "metadata": {},
   "outputs": [],
   "source": []
  },
  {
   "cell_type": "code",
   "execution_count": null,
   "id": "ec231c8a",
   "metadata": {},
   "outputs": [],
   "source": []
  },
  {
   "cell_type": "code",
   "execution_count": null,
   "id": "e71d592b",
   "metadata": {},
   "outputs": [],
   "source": []
  },
  {
   "cell_type": "code",
   "execution_count": null,
   "id": "1fd544b9",
   "metadata": {},
   "outputs": [],
   "source": []
  },
  {
   "cell_type": "code",
   "execution_count": null,
   "id": "532e92d4",
   "metadata": {},
   "outputs": [],
   "source": []
  },
  {
   "cell_type": "code",
   "execution_count": null,
   "id": "cbbbc187",
   "metadata": {},
   "outputs": [],
   "source": []
  },
  {
   "cell_type": "code",
   "execution_count": null,
   "id": "0a46e00e",
   "metadata": {},
   "outputs": [],
   "source": []
  },
  {
   "cell_type": "code",
   "execution_count": null,
   "id": "e6300b71",
   "metadata": {},
   "outputs": [],
   "source": []
  },
  {
   "cell_type": "code",
   "execution_count": null,
   "id": "17aebfd1",
   "metadata": {},
   "outputs": [],
   "source": []
  },
  {
   "cell_type": "code",
   "execution_count": null,
   "id": "f5fe45f8",
   "metadata": {},
   "outputs": [],
   "source": []
  },
  {
   "cell_type": "code",
   "execution_count": null,
   "id": "0bd005e0",
   "metadata": {},
   "outputs": [],
   "source": []
  },
  {
   "cell_type": "code",
   "execution_count": null,
   "id": "ac0237d4",
   "metadata": {},
   "outputs": [],
   "source": []
  },
  {
   "cell_type": "code",
   "execution_count": null,
   "id": "64d2c28f",
   "metadata": {},
   "outputs": [],
   "source": []
  },
  {
   "cell_type": "code",
   "execution_count": null,
   "id": "c674d739",
   "metadata": {},
   "outputs": [],
   "source": []
  },
  {
   "cell_type": "code",
   "execution_count": null,
   "id": "30f88392",
   "metadata": {},
   "outputs": [],
   "source": []
  },
  {
   "cell_type": "code",
   "execution_count": null,
   "id": "36210f02",
   "metadata": {},
   "outputs": [],
   "source": []
  },
  {
   "cell_type": "code",
   "execution_count": null,
   "id": "e0b380e7",
   "metadata": {},
   "outputs": [],
   "source": []
  },
  {
   "cell_type": "code",
   "execution_count": 19,
   "id": "7cc300be",
   "metadata": {},
   "outputs": [],
   "source": [
    "# https://github.com/Rustemhak\n",
    "import pandas as pd\n",
    "import numpy as np\n",
    "from statsmodels.stats.proportion import proportions_ztest\n",
    "\n",
    "chat_id = 326525586 # Ваш chat ID, не меняйте название переменной\n",
    "\n",
    "def solution(x_success: int, \n",
    "             x_cnt: int, \n",
    "             y_success: int, \n",
    "             y_cnt: int) -> bool:\n",
    "    # Измените код этой функции\n",
    "    # Это будет вашим решением\n",
    "    # Не меняйте название функции и её аргументы\n",
    "    counts = np.array([x_success, y_success])\n",
    "    nobs = np.array([x_cnt, y_cnt])\n",
    "    \n",
    "    z_stat, p_value = proportions_ztest(counts, nobs, alternative = 'larger')\n",
    "    alpha = 0.06\n",
    "    return p_value < alpha # Ваш ответ, True или False"
   ]
  },
  {
   "cell_type": "code",
   "execution_count": 22,
   "id": "75691123",
   "metadata": {},
   "outputs": [],
   "source": [
    "# https://github.com/pirozhkovcsc\n",
    "import pandas as pd\n",
    "import numpy as np\n",
    "from statsmodels.stats.proportion import proportions_ztest\n",
    "\n",
    "chat_id = 846523402 # Ваш chat ID, не меняйте название переменной\n",
    "\n",
    "def solution(x_success: int, \n",
    "             x_cnt: int, \n",
    "             y_success: int, \n",
    "             y_cnt: int) -> bool:\n",
    "    # Измените код этой функции\n",
    "    # Это будет вашим решением\n",
    "    # Не меняйте название функции и её аргументы\n",
    "    _, pval = proportions_ztest([x_success, y_success], [x_cnt, y_cnt], alternative='larger')\n",
    "    effect = (pval < 0.1)\n",
    "    \n",
    "    return effect # Ваш ответ, True или False"
   ]
  },
  {
   "cell_type": "code",
   "execution_count": null,
   "id": "3301a2c1",
   "metadata": {},
   "outputs": [],
   "source": [
    "# https://github.com/AleksandrK86\n",
    "import pandas as pd\n",
    "import numpy as np\n",
    "import math\n",
    "from scipy import stats\n",
    "\n",
    "chat_id = 1105105523 # Ваш chat ID, не меняйте название переменной\n",
    "\n",
    "def solution(x_success: int, \n",
    "             x_cnt: int, \n",
    "             y_success: int, \n",
    "             y_cnt: int) -> bool:\n",
    "  \n",
    "    alpha=0.02\n",
    "    \n",
    "    p1 = x_success / x_cnt\n",
    "    p2 = y_success / y_cnt\n",
    "    p_combined = (x_success + y_success) / (x_cnt + y_cnt)\n",
    "    difference = p1 - p2\n",
    " \n",
    "    z_value = difference / math.sqrt(\n",
    "        p_combined * (1 - p_combined) * (1 / x_success + 1 / y_success)\n",
    "    ) \n",
    "    distr = stats.norm(0, 1)  \n",
    "    \n",
    "    p_value = (1 - distr.cdf(abs(z_value))) * 2 \n",
    "    \n",
    "    if (p_value < alpha):\n",
    "      return True\n",
    "    else: \n",
    "      return False"
   ]
  },
  {
   "cell_type": "code",
   "execution_count": null,
   "id": "5174aead",
   "metadata": {},
   "outputs": [],
   "source": [
    "# https://github.com/Anastasiamay\n",
    "import pandas as pd\n",
    "import numpy as np\n",
    "import math\n",
    "from scipy import stats as st\n",
    "chat_id = 1067114867 # Ваш chat ID, не меняйте название переменной\n",
    "\n",
    "def solution(x_success: int, \n",
    "             x_cnt: int, \n",
    "             y_success: int, \n",
    "             y_cnt: int) -> bool:\n",
    "    alpha=0.01\n",
    "    p1 = x_success / x_cnt\n",
    "    p2 = y_success / y_cnt\n",
    "    p = (x_success + y_success) / (x_cnt + y_cnt)\n",
    "    \n",
    "    z = (p1 - p2) / math.sqrt(p * (1 - p) * (1/x_cnt + 1/y_cnt))\n",
    "    distr = st.norm(0, 1) \n",
    "    p_value = (1 - distr.cdf(abs(z))) * 2\n",
    "\n",
    "    if (p_value < alpha):\n",
    "      return True\n",
    "    else: \n",
    "      return False"
   ]
  },
  {
   "cell_type": "code",
   "execution_count": null,
   "id": "9854e259",
   "metadata": {},
   "outputs": [],
   "source": []
  },
  {
   "cell_type": "code",
   "execution_count": null,
   "id": "b866d824",
   "metadata": {},
   "outputs": [],
   "source": [
    "# Albert\n",
    "import pandas as pd\n",
    "import numpy as np\n",
    "import math\n",
    "from scipy import stats as st\n",
    "\n",
    "def solution(x_success: int, \n",
    "             x_cnt: int, \n",
    "             y_success: int, \n",
    "             y_cnt: int) -> bool:\n",
    "    alpha=0.01\n",
    "    p1 = x_success / x_cnt\n",
    "    p2 = y_success / y_cnt\n",
    "    p = (x_success + y_success) / (x_cnt + y_cnt)\n",
    "    \n",
    "    z = (p1 - p2) / math.sqrt(p * (1 - p) * (1/x_cnt + 1/y_cnt))\n",
    "    distr = st.norm(0, 1) \n",
    "#     p_value = (1 - distr.cdf(abs(z))) * 2\n",
    "    p_value = norm.sf(abs(z)) * 2\n",
    "\n",
    "    if (p_value < alpha):\n",
    "      return True\n",
    "    else: \n",
    "      return False"
   ]
  }
 ],
 "metadata": {
  "kernelspec": {
   "display_name": "Python 3 (ipykernel)",
   "language": "python",
   "name": "python3"
  },
  "language_info": {
   "codemirror_mode": {
    "name": "ipython",
    "version": 3
   },
   "file_extension": ".py",
   "mimetype": "text/x-python",
   "name": "python",
   "nbconvert_exporter": "python",
   "pygments_lexer": "ipython3",
   "version": "3.10.7"
  },
  "toc": {
   "base_numbering": 1,
   "nav_menu": {},
   "number_sections": true,
   "sideBar": true,
   "skip_h1_title": false,
   "title_cell": "Table of Contents",
   "title_sidebar": "Contents",
   "toc_cell": false,
   "toc_position": {},
   "toc_section_display": true,
   "toc_window_display": false
  },
  "varInspector": {
   "cols": {
    "lenName": 16,
    "lenType": 16,
    "lenVar": 40
   },
   "kernels_config": {
    "python": {
     "delete_cmd_postfix": "",
     "delete_cmd_prefix": "del ",
     "library": "var_list.py",
     "varRefreshCmd": "print(var_dic_list())"
    },
    "r": {
     "delete_cmd_postfix": ") ",
     "delete_cmd_prefix": "rm(",
     "library": "var_list.r",
     "varRefreshCmd": "cat(var_dic_list()) "
    }
   },
   "types_to_exclude": [
    "module",
    "function",
    "builtin_function_or_method",
    "instance",
    "_Feature"
   ],
   "window_display": false
  }
 },
 "nbformat": 4,
 "nbformat_minor": 5
}
